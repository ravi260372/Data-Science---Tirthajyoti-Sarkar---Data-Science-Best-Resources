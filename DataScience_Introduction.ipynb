{
  "nbformat": 4,
  "nbformat_minor": 0,
  "metadata": {
    "colab": {
      "name": "DataScience-Introduction",
      "provenance": [],
      "authorship_tag": "ABX9TyO3/ZMPDitvPpalhfK4beK8",
      "include_colab_link": true
    },
    "kernelspec": {
      "name": "python3",
      "display_name": "Python 3"
    }
  },
  "cells": [
    {
      "cell_type": "markdown",
      "metadata": {
        "id": "view-in-github",
        "colab_type": "text"
      },
      "source": [
        "<a href=\"https://colab.research.google.com/github/ravi260372/Data-Science---Tirthajyoti-Sarkar---Data-Science-Best-Resources/blob/master/DataScience_Introduction.ipynb\" target=\"_parent\"><img src=\"https://colab.research.google.com/assets/colab-badge.svg\" alt=\"Open In Colab\"/></a>"
      ]
    },
    {
      "cell_type": "markdown",
      "metadata": {
        "id": "bZXQyv8QoZBV"
      },
      "source": [
        "# Types of Variable\r\n",
        "In Python, you can handle and manipulate different types of variables. Each has its own specificities and benefits. We will not go through every single one of them but rather focus on the main ones that you will have to use in this course. For each of the following code examples, you can run the code in Google Colab to view the given output.\r\n",
        "\r\n",
        "# Numeric Variables\r\n",
        "The most basic variable type is numeric. This can contain integer or decimal (or float) numbers, and some mathematical operations can be performed on top of them.\r\n",
        "\r\n",
        "Let's use an integer variable called var1 that will take the value 8 and another one called var2 with the value 160.88, and add them together with the + operator, as shown here:"
      ]
    },
    {
      "cell_type": "code",
      "metadata": {
        "colab": {
          "base_uri": "https://localhost:8080/",
          "height": 0
        },
        "id": "2o68HUPkomkw",
        "outputId": "bc102aa4-aa48-4cf8-aecd-27d5d9b013a2"
      },
      "source": [
        "var1 = 8\r\n",
        "var2 = 160.88\r\n",
        "var1 + var2"
      ],
      "execution_count": 1,
      "outputs": [
        {
          "output_type": "execute_result",
          "data": {
            "text/plain": [
              "168.88"
            ]
          },
          "metadata": {
            "tags": []
          },
          "execution_count": 1
        }
      ]
    },
    {
      "cell_type": "markdown",
      "metadata": {
        "id": "hmkxmt7Eowtc"
      },
      "source": [
        "In Python, you can perform other mathematical operations on numerical variables, such as multiplication (with the * operator) and division (with /).  \r\n",
        "# Text Variables\r\n",
        "Another interesting type of variable is string, which contains textual information. You can create a variable with some specific text using the single or double quote, as shown in the following example:"
      ]
    },
    {
      "cell_type": "code",
      "metadata": {
        "colab": {
          "base_uri": "https://localhost:8080/",
          "height": 0
        },
        "id": "qdYwu3Xloyg3",
        "outputId": "dde8064a-149c-4796-aabb-35b7a58d3522"
      },
      "source": [
        "var3 = 'Hello, '\r\n",
        "var4 = 'World'\r\n",
        "print(var3)\r\n",
        "print(var4)"
      ],
      "execution_count": 2,
      "outputs": [
        {
          "output_type": "stream",
          "text": [
            "Hello, \n",
            "World\n"
          ],
          "name": "stdout"
        }
      ]
    },
    {
      "cell_type": "markdown",
      "metadata": {
        "id": "OYkJB4RipHHG"
      },
      "source": [
        "Python also provides an interface called f-strings for printing text with the value of defined variables. It is very handy when you want to print results with additional text to make it more readable and interpret results. It is also quite common to use f-strings to print logs. You will need to add f before the quotes (or double quotes) to specify that the text will be an f-string. Then you can add an existing variable inside the quotes and display the text with the value of this variable. You need to wrap the variable with curly brackets, {}. For instance, if we want to print Text: before the values of var3 and var4, we will write the following code:"
      ]
    },
    {
      "cell_type": "code",
      "metadata": {
        "colab": {
          "base_uri": "https://localhost:8080/",
          "height": 0
        },
        "id": "PXc5MEnupIXW",
        "outputId": "9c675d36-b007-4027-ce09-9882ce185b45"
      },
      "source": [
        "print(f\"Text: {var3} {var4}!\")"
      ],
      "execution_count": 3,
      "outputs": [
        {
          "output_type": "stream",
          "text": [
            "Text: Hello,  World!\n"
          ],
          "name": "stdout"
        }
      ]
    },
    {
      "cell_type": "markdown",
      "metadata": {
        "id": "GwpIG3JjpVqk"
      },
      "source": [
        "You can also perform some text-related transformations with string variables, such as capitalizing or replacing characters. For instance, you can concatenate the two variables together with the + operator:"
      ]
    },
    {
      "cell_type": "code",
      "metadata": {
        "colab": {
          "base_uri": "https://localhost:8080/",
          "height": 35
        },
        "id": "43I58MIOpW_m",
        "outputId": "ce144edb-5c38-42cd-b00e-ebe29c80a963"
      },
      "source": [
        "var3 + var4"
      ],
      "execution_count": 4,
      "outputs": [
        {
          "output_type": "execute_result",
          "data": {
            "application/vnd.google.colaboratory.intrinsic+json": {
              "type": "string"
            },
            "text/plain": [
              "'Hello, World'"
            ]
          },
          "metadata": {
            "tags": []
          },
          "execution_count": 4
        }
      ]
    },
    {
      "cell_type": "markdown",
      "metadata": {
        "id": "RNLTgSY8pcvG"
      },
      "source": [
        "# Python List\r\n",
        "Another very useful type of variable is the list. It is a collection of items that can be changed (you can add, update, or remove items). To declare a list, you will need to use square brackets, [ ], like this:"
      ]
    },
    {
      "cell_type": "code",
      "metadata": {
        "colab": {
          "base_uri": "https://localhost:8080/",
          "height": 0
        },
        "id": "dNkX-YHcpfWl",
        "outputId": "2e439c1a-49ea-4d2e-e4f1-7194950e0f6f"
      },
      "source": [
        "var5 = ['I', 'love', 'data', 'science']\r\n",
        "print(var5)"
      ],
      "execution_count": 5,
      "outputs": [
        {
          "output_type": "stream",
          "text": [
            "['I', 'love', 'data', 'science']\n"
          ],
          "name": "stdout"
        }
      ]
    },
    {
      "cell_type": "markdown",
      "metadata": {
        "id": "1wT5oNuRpq4B"
      },
      "source": [
        "A list can have different item types, so you can mix numerical and text variables in it:"
      ]
    },
    {
      "cell_type": "code",
      "metadata": {
        "colab": {
          "base_uri": "https://localhost:8080/",
          "height": 0
        },
        "id": "L0iipxOFpr1b",
        "outputId": "2c1f9163-346b-4dd6-f7ea-6ecf83c2da9e"
      },
      "source": [
        "var6 = ['Packt', 15019, 2020, 'Data Science']\r\n",
        "print(var6)"
      ],
      "execution_count": 6,
      "outputs": [
        {
          "output_type": "stream",
          "text": [
            "['Packt', 15019, 2020, 'Data Science']\n"
          ],
          "name": "stdout"
        }
      ]
    },
    {
      "cell_type": "markdown",
      "metadata": {
        "id": "bApd73Hipzej"
      },
      "source": [
        "An item in a list can be accessed by its index (its position in the list). To access the first (index 0) and third elements (index 2) of a list, you do the following:  \r\n",
        "***Note : In Python, all indexes start at 0.***"
      ]
    },
    {
      "cell_type": "code",
      "metadata": {
        "colab": {
          "base_uri": "https://localhost:8080/",
          "height": 0
        },
        "id": "80heeaBPp0at",
        "outputId": "094e91c4-0a23-487b-f42d-81a0561ddcae"
      },
      "source": [
        "print(var6[0])\r\n",
        "print(var6[2])"
      ],
      "execution_count": 7,
      "outputs": [
        {
          "output_type": "stream",
          "text": [
            "Packt\n",
            "2020\n"
          ],
          "name": "stdout"
        }
      ]
    },
    {
      "cell_type": "markdown",
      "metadata": {
        "id": "BIm4Z6J_qJq7"
      },
      "source": [
        "Python provides an API to access a range of items using the : operator. You just need to specify the starting index on the left side of the operator and the ending index on the right side. The ending index is always excluded from the range. So, if you want to get the first three items (index 0 to 2), you should do as follows:"
      ]
    },
    {
      "cell_type": "code",
      "metadata": {
        "colab": {
          "base_uri": "https://localhost:8080/",
          "height": 0
        },
        "id": "fMrtdJG0qKgJ",
        "outputId": "6d85aaef-373d-4c8f-8237-d66f813b2a9f"
      },
      "source": [
        "print(var6[0:3])"
      ],
      "execution_count": 8,
      "outputs": [
        {
          "output_type": "stream",
          "text": [
            "['Packt', 15019, 2020]\n"
          ],
          "name": "stdout"
        }
      ]
    },
    {
      "cell_type": "markdown",
      "metadata": {
        "id": "J3la0ZQhqSlK"
      },
      "source": [
        "You can also iterate through every item of a list using a for loop. If you want to print every item of the var6 list, you should do this:"
      ]
    },
    {
      "cell_type": "code",
      "metadata": {
        "colab": {
          "base_uri": "https://localhost:8080/",
          "height": 0
        },
        "id": "iG4Nvge7qT2L",
        "outputId": "0a1d93cc-5439-416c-df39-dca018bef572"
      },
      "source": [
        "for item in var6:\r\n",
        "    print(item)"
      ],
      "execution_count": 9,
      "outputs": [
        {
          "output_type": "stream",
          "text": [
            "Packt\n",
            "15019\n",
            "2020\n",
            "Data Science\n"
          ],
          "name": "stdout"
        }
      ]
    },
    {
      "cell_type": "markdown",
      "metadata": {
        "id": "u0qsjBn3qZE7"
      },
      "source": [
        "You can add an item at the end of the list using the .append() method:"
      ]
    },
    {
      "cell_type": "code",
      "metadata": {
        "colab": {
          "base_uri": "https://localhost:8080/",
          "height": 0
        },
        "id": "R_LxEpfqqZtI",
        "outputId": "0eed08c4-c96c-4d1c-ce10-4a8190f8a21d"
      },
      "source": [
        "var6.append('Python')\r\n",
        "print(var6)"
      ],
      "execution_count": 10,
      "outputs": [
        {
          "output_type": "stream",
          "text": [
            "['Packt', 15019, 2020, 'Data Science', 'Python']\n"
          ],
          "name": "stdout"
        }
      ]
    },
    {
      "cell_type": "markdown",
      "metadata": {
        "id": "1_a_UtWyqmja"
      },
      "source": [
        "To delete an item from the list, you use the .remove() method:"
      ]
    },
    {
      "cell_type": "code",
      "metadata": {
        "colab": {
          "base_uri": "https://localhost:8080/",
          "height": 0
        },
        "id": "-3I3dbUzqo3v",
        "outputId": "2dd74c0d-79bc-4373-b4df-bb92afc47a26"
      },
      "source": [
        "var6.remove(15019)\r\n",
        "print(var6)"
      ],
      "execution_count": 11,
      "outputs": [
        {
          "output_type": "stream",
          "text": [
            "['Packt', 2020, 'Data Science', 'Python']\n"
          ],
          "name": "stdout"
        }
      ]
    },
    {
      "cell_type": "markdown",
      "metadata": {
        "id": "e5F35lsKqy0q"
      },
      "source": [
        "# Python Dictionary\r\n",
        "Another very popular Python variable used by data scientists is the dictionary type. For example, it can be used to load JSON data into Python so that it can then be converted into a DataFrame . A dictionary contains multiple elements, like a list, but each element is organized as a key-value pair. \r\n",
        "***A dictionary contains multiple elements, like a list, but each element is organized as a key-value pair. A dictionary is not indexed by numbers but by keys. So, to access a specific value, you will have to call the item by its corresponding key***.\r\n",
        "To define a dictionary in Python, you will use curly brackets, {}, and specify the keys and values separated by :, as shown here:  \r\n",
        "***Note: Each key-value pair in a dictionary needs to be unique.***"
      ]
    },
    {
      "cell_type": "code",
      "metadata": {
        "colab": {
          "base_uri": "https://localhost:8080/",
          "height": 0
        },
        "id": "ihZAtw-XrLhv",
        "outputId": "8fc5c84e-cda4-44eb-f38f-8624e0fdb0d3"
      },
      "source": [
        "var7 = {'Topic': 'Data Science', 'Language': 'Python'}\r\n",
        "print(var7)"
      ],
      "execution_count": 12,
      "outputs": [
        {
          "output_type": "stream",
          "text": [
            "{'Topic': 'Data Science', 'Language': 'Python'}\n"
          ],
          "name": "stdout"
        }
      ]
    },
    {
      "cell_type": "markdown",
      "metadata": {
        "id": "nMVbigRBrVyC"
      },
      "source": [
        "To access a specific value, you need to provide the corresponding key name. For instance, if you want to get the value Python, you do this:"
      ]
    },
    {
      "cell_type": "code",
      "metadata": {
        "colab": {
          "base_uri": "https://localhost:8080/",
          "height": 35
        },
        "id": "VypBw3YlrYD8",
        "outputId": "a09c8515-d2e7-4528-e80c-0d1b2b91b024"
      },
      "source": [
        "var7['Language']"
      ],
      "execution_count": 13,
      "outputs": [
        {
          "output_type": "execute_result",
          "data": {
            "application/vnd.google.colaboratory.intrinsic+json": {
              "type": "string"
            },
            "text/plain": [
              "'Python'"
            ]
          },
          "metadata": {
            "tags": []
          },
          "execution_count": 13
        }
      ]
    },
    {
      "cell_type": "markdown",
      "metadata": {
        "id": "C2ZIr4murqGm"
      },
      "source": [
        "Python provides a method to access all the key names from a dictionary, .keys(), which is used as shown in the following code snippet.There is also a method called .values(), which is used to access all the values of a dictionary."
      ]
    },
    {
      "cell_type": "code",
      "metadata": {
        "colab": {
          "base_uri": "https://localhost:8080/",
          "height": 0
        },
        "id": "maC9KECGrsdI",
        "outputId": "407fc81d-d702-4dee-8f23-3a37793594a0"
      },
      "source": [
        "print(var7.keys())\r\n",
        "print(var7.values())"
      ],
      "execution_count": 15,
      "outputs": [
        {
          "output_type": "stream",
          "text": [
            "dict_keys(['Topic', 'Language'])\n",
            "dict_values(['Data Science', 'Python'])\n"
          ],
          "name": "stdout"
        }
      ]
    },
    {
      "cell_type": "markdown",
      "metadata": {
        "id": "DixAMMmar7-r"
      },
      "source": [
        "You can iterate through all items from a dictionary using a for loop and the .items() method"
      ]
    },
    {
      "cell_type": "code",
      "metadata": {
        "colab": {
          "base_uri": "https://localhost:8080/",
          "height": 0
        },
        "id": "xyKZIpxbr9KH",
        "outputId": "89d1b69e-c924-4f85-e188-9be3b1bd7fa3"
      },
      "source": [
        "for key, value in var7.items():\r\n",
        "    print(key)\r\n",
        "    print(value)"
      ],
      "execution_count": 16,
      "outputs": [
        {
          "output_type": "stream",
          "text": [
            "Topic\n",
            "Data Science\n",
            "Language\n",
            "Python\n"
          ],
          "name": "stdout"
        }
      ]
    },
    {
      "cell_type": "markdown",
      "metadata": {
        "id": "MhKaBYiSsC6U"
      },
      "source": [
        "You can add a new element in a dictionary by providing the key name like this:"
      ]
    },
    {
      "cell_type": "code",
      "metadata": {
        "colab": {
          "base_uri": "https://localhost:8080/",
          "height": 0
        },
        "id": "Wm_zDgkusDp3",
        "outputId": "e9f2a813-de62-47dd-e1cf-a90f9bcebfbd"
      },
      "source": [
        "var7['Publisher'] = 'Packt'\r\n",
        "print(var7)"
      ],
      "execution_count": 17,
      "outputs": [
        {
          "output_type": "stream",
          "text": [
            "{'Topic': 'Data Science', 'Language': 'Python', 'Publisher': 'Packt'}\n"
          ],
          "name": "stdout"
        }
      ]
    },
    {
      "cell_type": "markdown",
      "metadata": {
        "id": "gz90Md7csJt3"
      },
      "source": [
        "You can delete an item from a dictionary with the del command:"
      ]
    },
    {
      "cell_type": "code",
      "metadata": {
        "colab": {
          "base_uri": "https://localhost:8080/",
          "height": 0
        },
        "id": "cNYdxJkHsKY5",
        "outputId": "5a55adc8-caee-4f20-d17c-688e7de96f2d"
      },
      "source": [
        "del var7['Publisher']\r\n",
        "print(var7)"
      ],
      "execution_count": 18,
      "outputs": [
        {
          "output_type": "stream",
          "text": [
            "{'Topic': 'Data Science', 'Language': 'Python'}\n"
          ],
          "name": "stdout"
        }
      ]
    },
    {
      "cell_type": "markdown",
      "metadata": {
        "id": "Ak-oZEOnsZ1B"
      },
      "source": [
        "# Exercise 1.01: \r\n",
        "Creating a Dictionary That Will Contain Machine Learning Algorithms  \r\n",
        "\r\n",
        "\r\n",
        "\r\n",
        "1.   Create a list called algorithm that will contain the following elements: Linear Regression, Logistic Regression, RandomForest, and a3c\r\n",
        "\r\n"
      ]
    },
    {
      "cell_type": "code",
      "metadata": {
        "colab": {
          "base_uri": "https://localhost:8080/",
          "height": 0
        },
        "id": "1JdeVwpUsj9D",
        "outputId": "7a19b1f7-812c-412d-a758-98de8dbccef1"
      },
      "source": [
        "algorithm = ['Linear Regression' , 'Logistic Regression' , 'Random Forest' , \\\r\n",
        "             'a3c']\r\n",
        "algorithm"
      ],
      "execution_count": 22,
      "outputs": [
        {
          "output_type": "execute_result",
          "data": {
            "text/plain": [
              "['Linear Regression', 'Logistic Regression', 'Random Forest', 'a3c']"
            ]
          },
          "metadata": {
            "tags": []
          },
          "execution_count": 22
        }
      ]
    },
    {
      "cell_type": "markdown",
      "metadata": {
        "id": "227fqSqitbAN"
      },
      "source": [
        "\r\n",
        "\r\n",
        "2.   create a list called learning that will contain the following elements: Supervised, Supervised, Supervised, and Reinforcement\r\n",
        "\r\n"
      ]
    },
    {
      "cell_type": "code",
      "metadata": {
        "colab": {
          "base_uri": "https://localhost:8080/",
          "height": 0
        },
        "id": "ihi8C_ustgps",
        "outputId": "b7faad80-84cb-4eed-b2a2-e00f1da10585"
      },
      "source": [
        "learning = ['Supervised' , 'Supervised' , 'Supervised' , \\\r\n",
        "            'Reinforcement']\r\n",
        "learning"
      ],
      "execution_count": 23,
      "outputs": [
        {
          "output_type": "execute_result",
          "data": {
            "text/plain": [
              "['Supervised', 'Supervised', 'Supervised', 'Reinforcement']"
            ]
          },
          "metadata": {
            "tags": []
          },
          "execution_count": 23
        }
      ]
    },
    {
      "cell_type": "markdown",
      "metadata": {
        "id": "scwrSJROtvI6"
      },
      "source": [
        "\r\n",
        "\r\n",
        "3. Create a list called algorithm_type that will contain the following elements: Regression, Classification, Regression or Classification, and Game AI\r\n",
        "\r\n"
      ]
    },
    {
      "cell_type": "code",
      "metadata": {
        "colab": {
          "base_uri": "https://localhost:8080/",
          "height": 0
        },
        "id": "BB6nSIPAtzK8",
        "outputId": "08f1314c-99b9-4130-df4a-c32633f0aac2"
      },
      "source": [
        "algorithm_type = ['Regression' , 'Classification' , \\\r\n",
        "                  'Regression or Classification' , 'Game AI']\r\n",
        "\r\n",
        "algorithm_type"
      ],
      "execution_count": 24,
      "outputs": [
        {
          "output_type": "execute_result",
          "data": {
            "text/plain": [
              "['Regression', 'Classification', 'Regression or Classification', 'Game AI']"
            ]
          },
          "metadata": {
            "tags": []
          },
          "execution_count": 24
        }
      ]
    },
    {
      "cell_type": "markdown",
      "metadata": {
        "id": "1uSajiQCuDGL"
      },
      "source": [
        "\r\n",
        "\r\n",
        "4.   Add an item called k-means into the algorithm list using the .append() method\r\n",
        "\r\n"
      ]
    },
    {
      "cell_type": "code",
      "metadata": {
        "colab": {
          "base_uri": "https://localhost:8080/",
          "height": 0
        },
        "id": "froTYYTvuHtV",
        "outputId": "01e7fabf-5bb0-4b98-f7ff-e5c1a0699ac1"
      },
      "source": [
        "algorithm.append('k-means')\r\n",
        "\r\n",
        "print(algorithm)"
      ],
      "execution_count": 26,
      "outputs": [
        {
          "output_type": "stream",
          "text": [
            "['Linear Regression', 'Logistic Regression', 'Random Forest', 'a3c', 'k-means', 'k-means']\n"
          ],
          "name": "stdout"
        }
      ]
    },
    {
      "cell_type": "markdown",
      "metadata": {
        "id": "byePXu6yuaBG"
      },
      "source": [
        "\r\n",
        "\r\n",
        "5.   add the Unsupervised item into the learning list using the .append() method\r\n",
        "\r\n"
      ]
    },
    {
      "cell_type": "code",
      "metadata": {
        "colab": {
          "base_uri": "https://localhost:8080/",
          "height": 0
        },
        "id": "O5HTb-J1ue9S",
        "outputId": "f653d9eb-76eb-41ec-f6a7-b258031ff9d7"
      },
      "source": [
        "learning.append('Unsupervised')\r\n",
        "\r\n",
        "print(learning)"
      ],
      "execution_count": 27,
      "outputs": [
        {
          "output_type": "stream",
          "text": [
            "['Supervised', 'Supervised', 'Supervised', 'Reinforcement', 'Unsupervised']\n"
          ],
          "name": "stdout"
        }
      ]
    },
    {
      "cell_type": "markdown",
      "metadata": {
        "id": "wktdDh-oupG_"
      },
      "source": [
        "\r\n",
        "\r\n",
        "6.   Add the Clustering item into the algorithm_type list using the .append() method\r\n",
        "\r\n"
      ]
    },
    {
      "cell_type": "code",
      "metadata": {
        "colab": {
          "base_uri": "https://localhost:8080/",
          "height": 0
        },
        "id": "RZ4pQ4Z9us6Q",
        "outputId": "51c6cb94-c85f-4dd3-a4c2-5dcd5db5301f"
      },
      "source": [
        "algorithm_type.append('Clustering')\r\n",
        "\r\n",
        "print(algorithm_type)"
      ],
      "execution_count": 28,
      "outputs": [
        {
          "output_type": "stream",
          "text": [
            "['Regression', 'Classification', 'Regression or Classification', 'Game AI', 'Clustering']\n"
          ],
          "name": "stdout"
        }
      ]
    },
    {
      "cell_type": "markdown",
      "metadata": {
        "id": "2arAfHXhu3SE"
      },
      "source": [
        "\r\n",
        "\r\n",
        "7.   Create an empty dictionary called machine_learning using curly brackets, {}\r\n",
        "\r\n"
      ]
    },
    {
      "cell_type": "code",
      "metadata": {
        "id": "b6ez2sgqu6UX"
      },
      "source": [
        "machine_learning = {}"
      ],
      "execution_count": 29,
      "outputs": []
    },
    {
      "cell_type": "markdown",
      "metadata": {
        "id": "grZywz2nvCk4"
      },
      "source": [
        "\r\n",
        "\r\n",
        "8.   Create a new item in machine_learning with the key as algorithm and the value as all the items from the algorithm list\r\n",
        "\r\n"
      ]
    },
    {
      "cell_type": "code",
      "metadata": {
        "colab": {
          "base_uri": "https://localhost:8080/",
          "height": 0
        },
        "id": "i8I7Ayi4vGbv",
        "outputId": "3eae5549-e7cf-48d6-8d53-1a7054a3ca42"
      },
      "source": [
        "machine_learning['algorithm'] = algorithm\r\n",
        "\r\n",
        "print(machine_learning)"
      ],
      "execution_count": 30,
      "outputs": [
        {
          "output_type": "stream",
          "text": [
            "{'algorithm': ['Linear Regression', 'Logistic Regression', 'Random Forest', 'a3c', 'k-means', 'k-means']}\n"
          ],
          "name": "stdout"
        }
      ]
    },
    {
      "cell_type": "markdown",
      "metadata": {
        "id": "R5-5XgVPvbs6"
      },
      "source": [
        "\r\n",
        "\r\n",
        "9.   Create a new item in machine_learning with the key as learning and the value as all the items from the learning list\r\n",
        "\r\n"
      ]
    },
    {
      "cell_type": "code",
      "metadata": {
        "colab": {
          "base_uri": "https://localhost:8080/",
          "height": 0
        },
        "id": "ZczxLhTOve-m",
        "outputId": "831a64a8-70bc-4452-e3fb-cec7f94a72d1"
      },
      "source": [
        "machine_learning['learning'] = learning\r\n",
        "\r\n",
        "print(machine_learning)"
      ],
      "execution_count": 31,
      "outputs": [
        {
          "output_type": "stream",
          "text": [
            "{'algorithm': ['Linear Regression', 'Logistic Regression', 'Random Forest', 'a3c', 'k-means', 'k-means'], 'learning': ['Supervised', 'Supervised', 'Supervised', 'Reinforcement', 'Unsupervised']}\n"
          ],
          "name": "stdout"
        }
      ]
    },
    {
      "cell_type": "markdown",
      "metadata": {
        "id": "J0DwbKOCvqMt"
      },
      "source": [
        "\r\n",
        "\r\n",
        "10.   create a new item in machine_learning with the key as algorithm_type and the value as all the items from the algorithm_type list\r\n",
        "\r\n"
      ]
    },
    {
      "cell_type": "code",
      "metadata": {
        "colab": {
          "base_uri": "https://localhost:8080/",
          "height": 0
        },
        "id": "dmeD81G8vtNd",
        "outputId": "cf649cbb-bd97-4a68-ef72-9ebb1c7b4e29"
      },
      "source": [
        "machine_learning['algorithm_type'] = algorithm_type\r\n",
        "\r\n",
        "print(machine_learning)"
      ],
      "execution_count": 32,
      "outputs": [
        {
          "output_type": "stream",
          "text": [
            "{'algorithm': ['Linear Regression', 'Logistic Regression', 'Random Forest', 'a3c', 'k-means', 'k-means'], 'learning': ['Supervised', 'Supervised', 'Supervised', 'Reinforcement', 'Unsupervised'], 'algorithm_type': ['Regression', 'Classification', 'Regression or Classification', 'Game AI', 'Clustering']}\n"
          ],
          "name": "stdout"
        }
      ]
    }
  ]
}